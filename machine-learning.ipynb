{
 "cells": [
  {
   "cell_type": "code",
   "execution_count": 8,
   "metadata": {},
   "outputs": [],
   "source": [
    "import pandas as pd\n",
    "import numpy as np\n",
    "from sklearn.model_selection import train_test_split\n",
    "from sklearn.linear_model import LinearRegression\n",
    "from sklearn.metrics import mean_squared_error\n"
   ]
  },
  {
   "cell_type": "code",
   "execution_count": 22,
   "metadata": {},
   "outputs": [],
   "source": [
    "df1 = pd.read_csv('1- producao-de-plastico-global.csv')\n",
    "df2 = pd.read_csv('5- poluicao-agua-cidades.csv')"
   ]
  },
  {
   "cell_type": "code",
   "execution_count": 26,
   "metadata": {},
   "outputs": [],
   "source": [
    "df2.rename(columns={' Entidade': 'Entidade'}, inplace=True)"
   ]
  },
  {
   "cell_type": "code",
   "execution_count": 27,
   "metadata": {},
   "outputs": [
    {
     "name": "stdout",
     "output_type": "stream",
     "text": [
      "\n",
      "Valores nulos em df1['Entidade']: 0\n",
      "Valores nulos em df2['Entidade']: 0\n"
     ]
    }
   ],
   "source": [
    "# Verificar se há valores nulos na coluna \"Entidade\"\n",
    "print(\"\\nValores nulos em df1['Entidade']:\", df1['Entidade'].isnull().sum())\n",
    "print(\"Valores nulos em df2['Entidade']:\", df2['Entidade'].isnull().sum())"
   ]
  },
  {
   "cell_type": "code",
   "execution_count": 30,
   "metadata": {},
   "outputs": [
    {
     "data": {
      "text/html": [
       "<div>\n",
       "<style scoped>\n",
       "    .dataframe tbody tr th:only-of-type {\n",
       "        vertical-align: middle;\n",
       "    }\n",
       "\n",
       "    .dataframe tbody tr th {\n",
       "        vertical-align: top;\n",
       "    }\n",
       "\n",
       "    .dataframe thead th {\n",
       "        text-align: right;\n",
       "    }\n",
       "</style>\n",
       "<table border=\"1\" class=\"dataframe\">\n",
       "  <thead>\n",
       "    <tr style=\"text-align: right;\">\n",
       "      <th></th>\n",
       "      <th>Entidade</th>\n",
       "      <th>Ano</th>\n",
       "      <th>Produção Anual de Plástico</th>\n",
       "    </tr>\n",
       "  </thead>\n",
       "  <tbody>\n",
       "    <tr>\n",
       "      <th>0</th>\n",
       "      <td>Mundo</td>\n",
       "      <td>1950</td>\n",
       "      <td>2000000</td>\n",
       "    </tr>\n",
       "    <tr>\n",
       "      <th>1</th>\n",
       "      <td>Mundo</td>\n",
       "      <td>1951</td>\n",
       "      <td>2000000</td>\n",
       "    </tr>\n",
       "    <tr>\n",
       "      <th>2</th>\n",
       "      <td>Mundo</td>\n",
       "      <td>1952</td>\n",
       "      <td>2000000</td>\n",
       "    </tr>\n",
       "    <tr>\n",
       "      <th>3</th>\n",
       "      <td>Mundo</td>\n",
       "      <td>1953</td>\n",
       "      <td>3000000</td>\n",
       "    </tr>\n",
       "    <tr>\n",
       "      <th>4</th>\n",
       "      <td>Mundo</td>\n",
       "      <td>1954</td>\n",
       "      <td>3000000</td>\n",
       "    </tr>\n",
       "  </tbody>\n",
       "</table>\n",
       "</div>"
      ],
      "text/plain": [
       "  Entidade   Ano  Produção Anual de Plástico\n",
       "0    Mundo  1950                     2000000\n",
       "1    Mundo  1951                     2000000\n",
       "2    Mundo  1952                     2000000\n",
       "3    Mundo  1953                     3000000\n",
       "4    Mundo  1954                     3000000"
      ]
     },
     "execution_count": 30,
     "metadata": {},
     "output_type": "execute_result"
    }
   ],
   "source": [
    "df1.head()"
   ]
  },
  {
   "cell_type": "code",
   "execution_count": 31,
   "metadata": {},
   "outputs": [
    {
     "data": {
      "text/html": [
       "<div>\n",
       "<style scoped>\n",
       "    .dataframe tbody tr th:only-of-type {\n",
       "        vertical-align: middle;\n",
       "    }\n",
       "\n",
       "    .dataframe tbody tr th {\n",
       "        vertical-align: top;\n",
       "    }\n",
       "\n",
       "    .dataframe thead th {\n",
       "        text-align: right;\n",
       "    }\n",
       "</style>\n",
       "<table border=\"1\" class=\"dataframe\">\n",
       "  <thead>\n",
       "    <tr style=\"text-align: right;\">\n",
       "      <th></th>\n",
       "      <th>Cidade</th>\n",
       "      <th>Região</th>\n",
       "      <th>Entidade</th>\n",
       "      <th>Qualidade do Ar</th>\n",
       "      <th>Poluição da Água</th>\n",
       "    </tr>\n",
       "  </thead>\n",
       "  <tbody>\n",
       "    <tr>\n",
       "      <th>0</th>\n",
       "      <td>New York City</td>\n",
       "      <td>New York</td>\n",
       "      <td>United States of America</td>\n",
       "      <td>46.816038</td>\n",
       "      <td>49.504950</td>\n",
       "    </tr>\n",
       "    <tr>\n",
       "      <th>1</th>\n",
       "      <td>Washington, D.C.</td>\n",
       "      <td>District of Columbia</td>\n",
       "      <td>United States of America</td>\n",
       "      <td>66.129032</td>\n",
       "      <td>49.107143</td>\n",
       "    </tr>\n",
       "    <tr>\n",
       "      <th>2</th>\n",
       "      <td>San Francisco</td>\n",
       "      <td>California</td>\n",
       "      <td>United States of America</td>\n",
       "      <td>60.514019</td>\n",
       "      <td>43.000000</td>\n",
       "    </tr>\n",
       "    <tr>\n",
       "      <th>3</th>\n",
       "      <td>Berlin</td>\n",
       "      <td>NaN</td>\n",
       "      <td>Germany</td>\n",
       "      <td>62.364130</td>\n",
       "      <td>28.612717</td>\n",
       "    </tr>\n",
       "    <tr>\n",
       "      <th>4</th>\n",
       "      <td>Los Angeles</td>\n",
       "      <td>California</td>\n",
       "      <td>United States of America</td>\n",
       "      <td>36.621622</td>\n",
       "      <td>61.299435</td>\n",
       "    </tr>\n",
       "  </tbody>\n",
       "</table>\n",
       "</div>"
      ],
      "text/plain": [
       "             Cidade                Região                  Entidade  \\\n",
       "0     New York City              New York  United States of America   \n",
       "1  Washington, D.C.  District of Columbia  United States of America   \n",
       "2     San Francisco            California  United States of America   \n",
       "3            Berlin                   NaN                   Germany   \n",
       "4       Los Angeles            California  United States of America   \n",
       "\n",
       "    Qualidade do Ar   Poluição da Água  \n",
       "0         46.816038          49.504950  \n",
       "1         66.129032          49.107143  \n",
       "2         60.514019          43.000000  \n",
       "3         62.364130          28.612717  \n",
       "4         36.621622          61.299435  "
      ]
     },
     "execution_count": 31,
     "metadata": {},
     "output_type": "execute_result"
    }
   ],
   "source": [
    "df2.head()"
   ]
  },
  {
   "cell_type": "code",
   "execution_count": 39,
   "metadata": {},
   "outputs": [],
   "source": [
    "df_merged = pd.merge(df1, df2, on='Entidade', how='right')"
   ]
  },
  {
   "cell_type": "code",
   "execution_count": 41,
   "metadata": {},
   "outputs": [
    {
     "data": {
      "text/html": [
       "<div>\n",
       "<style scoped>\n",
       "    .dataframe tbody tr th:only-of-type {\n",
       "        vertical-align: middle;\n",
       "    }\n",
       "\n",
       "    .dataframe tbody tr th {\n",
       "        vertical-align: top;\n",
       "    }\n",
       "\n",
       "    .dataframe thead th {\n",
       "        text-align: right;\n",
       "    }\n",
       "</style>\n",
       "<table border=\"1\" class=\"dataframe\">\n",
       "  <thead>\n",
       "    <tr style=\"text-align: right;\">\n",
       "      <th></th>\n",
       "      <th>Entidade</th>\n",
       "      <th>Ano</th>\n",
       "      <th>Produção Anual de Plástico</th>\n",
       "      <th>Cidade</th>\n",
       "      <th>Região</th>\n",
       "      <th>Qualidade do Ar</th>\n",
       "      <th>Poluição da Água</th>\n",
       "    </tr>\n",
       "  </thead>\n",
       "  <tbody>\n",
       "    <tr>\n",
       "      <th>0</th>\n",
       "      <td>United States of America</td>\n",
       "      <td>NaN</td>\n",
       "      <td>NaN</td>\n",
       "      <td>New York City</td>\n",
       "      <td>New York</td>\n",
       "      <td>46.816038</td>\n",
       "      <td>49.504950</td>\n",
       "    </tr>\n",
       "    <tr>\n",
       "      <th>1</th>\n",
       "      <td>United States of America</td>\n",
       "      <td>NaN</td>\n",
       "      <td>NaN</td>\n",
       "      <td>Washington, D.C.</td>\n",
       "      <td>District of Columbia</td>\n",
       "      <td>66.129032</td>\n",
       "      <td>49.107143</td>\n",
       "    </tr>\n",
       "    <tr>\n",
       "      <th>2</th>\n",
       "      <td>United States of America</td>\n",
       "      <td>NaN</td>\n",
       "      <td>NaN</td>\n",
       "      <td>San Francisco</td>\n",
       "      <td>California</td>\n",
       "      <td>60.514019</td>\n",
       "      <td>43.000000</td>\n",
       "    </tr>\n",
       "    <tr>\n",
       "      <th>3</th>\n",
       "      <td>Germany</td>\n",
       "      <td>NaN</td>\n",
       "      <td>NaN</td>\n",
       "      <td>Berlin</td>\n",
       "      <td>NaN</td>\n",
       "      <td>62.364130</td>\n",
       "      <td>28.612717</td>\n",
       "    </tr>\n",
       "    <tr>\n",
       "      <th>4</th>\n",
       "      <td>United States of America</td>\n",
       "      <td>NaN</td>\n",
       "      <td>NaN</td>\n",
       "      <td>Los Angeles</td>\n",
       "      <td>California</td>\n",
       "      <td>36.621622</td>\n",
       "      <td>61.299435</td>\n",
       "    </tr>\n",
       "  </tbody>\n",
       "</table>\n",
       "</div>"
      ],
      "text/plain": [
       "                   Entidade  Ano  Produção Anual de Plástico  \\\n",
       "0  United States of America  NaN                         NaN   \n",
       "1  United States of America  NaN                         NaN   \n",
       "2  United States of America  NaN                         NaN   \n",
       "3                   Germany  NaN                         NaN   \n",
       "4  United States of America  NaN                         NaN   \n",
       "\n",
       "             Cidade                Região   Qualidade do Ar   Poluição da Água  \n",
       "0     New York City              New York         46.816038          49.504950  \n",
       "1  Washington, D.C.  District of Columbia         66.129032          49.107143  \n",
       "2     San Francisco            California         60.514019          43.000000  \n",
       "3            Berlin                   NaN         62.364130          28.612717  \n",
       "4       Los Angeles            California         36.621622          61.299435  "
      ]
     },
     "execution_count": 41,
     "metadata": {},
     "output_type": "execute_result"
    }
   ],
   "source": [
    "df_merged.head()"
   ]
  },
  {
   "cell_type": "code",
   "execution_count": 42,
   "metadata": {},
   "outputs": [],
   "source": [
    "df_merged.drop(columns=['Ano', 'Produção Anual de Plástico'], inplace=True)"
   ]
  },
  {
   "cell_type": "code",
   "execution_count": 48,
   "metadata": {},
   "outputs": [
    {
     "name": "stdout",
     "output_type": "stream",
     "text": [
      "<class 'pandas.core.frame.DataFrame'>\n",
      "RangeIndex: 3963 entries, 0 to 3962\n",
      "Data columns (total 5 columns):\n",
      " #   Column             Non-Null Count  Dtype  \n",
      "---  ------             --------------  -----  \n",
      " 0   Entidade           3963 non-null   object \n",
      " 1   Cidade             3963 non-null   object \n",
      " 2    Região            3538 non-null   object \n",
      " 3    Qualidade do Ar   3963 non-null   float64\n",
      " 4    Poluição da Água  3963 non-null   float64\n",
      "dtypes: float64(2), object(3)\n",
      "memory usage: 154.9+ KB\n"
     ]
    }
   ],
   "source": [
    "df_merged.info()"
   ]
  },
  {
   "cell_type": "code",
   "execution_count": 50,
   "metadata": {},
   "outputs": [],
   "source": [
    "X = df_merged[[' Poluição da Água']]\n",
    "y = df_merged[' Qualidade do Ar']"
   ]
  },
  {
   "cell_type": "code",
   "execution_count": 53,
   "metadata": {},
   "outputs": [],
   "source": [
    "X_train, X_test, y_train, y_test = train_test_split(X, y, test_size=0.33, random_state=42)"
   ]
  },
  {
   "cell_type": "code",
   "execution_count": 54,
   "metadata": {},
   "outputs": [
    {
     "name": "stdout",
     "output_type": "stream",
     "text": [
      "Coeficiente de determinação (R²): 0.20\n",
      "Erro médio quadrado (MSE): 792.27\n"
     ]
    }
   ],
   "source": [
    "model = LinearRegression()\n",
    "\n",
    "# Treinando o modelo\n",
    "model.fit(X_train, y_train)\n",
    "\n",
    "# Fazendo previsões\n",
    "y_pred = model.predict(X_test)\n",
    "\n",
    "# Calculando o erro médio quadrado (MSE)\n",
    "mse = mean_squared_error(y_test, y_pred)\n",
    "\n",
    "# Exibindo os resultados\n",
    "print(f'Coeficiente de determinação (R²): {model.score(X_test, y_test):.2f}')\n",
    "print(f'Erro médio quadrado (MSE): {mse:.2f}')"
   ]
  }
 ],
 "metadata": {
  "kernelspec": {
   "display_name": "Python 3",
   "language": "python",
   "name": "python3"
  },
  "language_info": {
   "codemirror_mode": {
    "name": "ipython",
    "version": 3
   },
   "file_extension": ".py",
   "mimetype": "text/x-python",
   "name": "python",
   "nbconvert_exporter": "python",
   "pygments_lexer": "ipython3",
   "version": "3.10.11"
  }
 },
 "nbformat": 4,
 "nbformat_minor": 2
}
